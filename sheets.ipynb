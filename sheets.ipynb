{
 "cells": [
  {
   "cell_type": "code",
   "execution_count": 34,
   "metadata": {},
   "outputs": [],
   "source": [
    "import pandas as pd\n",
    "# file = 'data/dotacie2008.xls'\n",
    "# xls = pd.ExcelFile(file)\n",
    "# print(xls.sheet_names)\n",
    "\n",
    "sheet_names={}\n",
    "\n",
    "for i in range(2008, 2013):\n",
    "    file = 'data/dotacie'+str(i)+'.xls'\n",
    "    xls = pd.ExcelFile(file)\n",
    "    sheet_names[i] = xls.sheet_names\n",
    "\n",
    "for i in range(2013, 2023):\n",
    "    file = 'data/dotacie'+str(i)+'.xlsx'\n",
    "    xls = pd.ExcelFile(file)\n",
    "    sheet_names[i] = xls.sheet_names"
   ]
  },
  {
   "cell_type": "code",
   "execution_count": 35,
   "metadata": {},
   "outputs": [
    {
     "name": "stdout",
     "output_type": "stream",
     "text": [
      "{2008: ['T1-rozpis_2008_2007', 'T1-V14_rep', 'T1-2008_ZORO', 'T2-KN', 'T2a-KAP', 'T3-vstupy', 'T4-štruk_077', 'T5a-absolventi', 'T5b-študenti', 'T6-výkon', 'T6-vyk_Fak', 'T7-mzdy', 'T8-TaS', 'T9-kultúra-šport', 'T9a_rozpis na TJ,ŠK', 'T10-prev_ŠD', 'T11-sumár_ŠD', 'T12-špecifiká', 'T13-sumár-špec', 'T14-VVZ-mzdy-TaS', 'T15-štipendiá-soc-Drš', 'T16-KKŠ', 'T17-Klinické ', 'T18-Mot.- štip', 'T19-počty studentov', 'T20-Publik', 'T21-info_syst', 'T22-praxe', 'číselnik-prog', 'premenné'], 2009: ['Obsah', 'T1-RD2009_eur-RD2008', 'T1-2009-2008, index', 'T2-KN', 'T2a-KAP', 'T3-vstupy', 'T4-štruk_077', 'T5a-abs', 'T5b-študent', 'T6a-abs,ext', 'T6b-výkon', 'T6c-výk_fak', 'T7-mzdy', 'T8-TaS', 'T9-kultúra-šport', 'T9a_rozpis na TJ,ŠK', 'T10-prev_ŠD', 'T11-sumár_ŠD', 'T12-špecifiká', 'T13-sumár-špec', 'T14-VVZ-mzdy-TaS', 'T15-štipendiá-soc-Drš', 'T16-KKŠ', 'T17-Klinické', 'T18-Mot_štip', 'T19-počty studentov', 'T19a-roky štúdia', 'T20-Publik', 'T20a-EPC', 'T20b-EUC', 'T21-info_syst', 'T22-praxe', 'T23-DPŠ', 'T24-čís_fakúlt', 'T1-RD2009-SR2009_ZORO'], 2010: ['Obsah', 'T1-RD2010_RD2009', 'T1-RD2010_RD2009 (%)', 'T2-KO', 'T2-KAP', 'T3-vstupy', 'T4-štruk_077', 'T5a-abs', 'T5b-študent', 'T6a-abs,ext', 'T6b-výkon', 'T6c-výkon-fak', 'T7-mzdy', 'T8-TaS', 'T9-kultúra-šport', 'T9a_rozpis na TJ,ŠK', 'T10-prev_ŠD', 'T11-sumár_ŠD', 'T12-špecifiká', 'T13-sumár-špec', 'T14-VVZ', 'T14a-KVV', 'T15-štipendiá-soc-Drš', 'T16-KKŠ', 'T17-Klinické-Zahr_lek', 'T18-Mot_štip', 'T19-počty studentov', 'T20-Publik', 'T20a-EPC', 'T20b-EUC', 'T21-info_syst', 'T22-praxe'], 2011: ['Obsah', 'T1-RD2011_RD2010', 'T1-RD2011_RD2010 (%)', 'T2-KO', 'T2-KAP', 'T3-vstupy', 'T4-štruk_077', 'T5a-abs', 'T5b-študent', 'T6a-abs,ext', 'T6b-výkon', 'T6c-výkon-fak', 'T7-mzdy', 'T8-TaS', 'T9-kultúra-šport', 'T9a_rozpis na TJ,ŠK', 'T10-prev_ŠD', 'T11-sumár_ŠD', 'T12-špecifiká', 'T13-sumár-špec', 'T14-VVZ', 'T14a-KA', 'T14b-podiely', '14c-TP', 'T15-štipendiá-soc-Drš', 'T16-KKŠ', 'T17-Klinické-Zahr_lek', 'T18-Mot_štip', 'T19-počty studentov', 'T20-Publik', 'T20a-EPC', 'T20b-EUC', 'T21-osobitné krit', 'T22-praxe'], 2012: ['Obsah', 'T1-RD2012_RD2011', 'T1-RD2012_RD2011 (%)', 'T2-KO', 'T2-KAP', 'T3-vstupy', 'T4-štruk_077', 'T5a-abs', 'T5b-študent', 'T6a-abs', 'T6b-výkon', 'T6c-výkon-fak', 'T7-mzdy', 'T8-TaS', 'T9-kultúra-šport', 'T9a_rozpis na TJ,ŠK', 'T10-prev_ŠD', 'T11-sumár_ŠD', 'T12-špecifiká', 'T13-sumár-špec', 'T14-VVZ', 'T14a-KA', 'T14b-podiely', 'T15-štipendiá-soc-Drš', 'T16-KKŠ', 'T17-Klinické-Zahr_lek', 'T18-Mot_štip', 'T19-počty studentov', 'T20-Publik', 'T20a-EPC', 'T20b-EUC', 'T21-Mobility', 'T22-praxe'], 2013: ['Obsah', 'T1-RD2013_RD2012', 'T1-RD2013_RD2012 (%)', 'T2-KO', 'T2-KAP_2013', 'T3-vstupy', 'T4-štruk_077_RD', 'T5a-abs', 'T5b-študent', 'T6a-abs', 'T6b-výkon', 'T6c-výkon-fak', 'T7-mzdy', 'T8-TaS', 'T9-kultúra-šport', 'T9a_rozpis na TJ,ŠK', 'T10-prev_ŠD', 'T11-sumár_ŠD', 'T12-špecifiká', 'T13-sumár-špec', 'T14-VVZ', 'T14a-KA', 'T14b-podiely', 'T14c-vstup_DG-ZG', 'T14d-Drš', 'T15-štipendiá-soc-Drš', 'T16-KKŠ', 'T17-Klinické-Zahr_lek', 'T18-Mot_štip', 'T19-počty študentov', 'T20-Publik', 'T20a-EPC', 'T20b-EUC', 'T21-Mobility', 'T22-praxe'], 2014: ['Obsah', 'T1-SR2014_RD2013', 'T1-SR2014_RD2013 (%)', 'T1-SR2014_RD2013 (+5% neped)', 'T1-SR2014_RD2013 (%) (+5%neped)', 'T2-KO', 'T2-KAP_2014', 'T2 -študijné odbory', 'T3-vstupy', 'T4-štruk_077', 'T4-štruk_077 (5%-neped)', 'T5a-abs', 'T5b-študent', 'T6a-abs', 'T6b-výkon', 'T6c-výkon-fak', 'T7-mzdy', 'T7a', 'T7b', 'T8-TaS', 'T9-kultúra-šport', 'T9a_rozpis na TJ,ŠK', 'T10-prev_ŠD', 'T11-sumár_ŠD', 'T12-špecifiká', 'T13-sumár-špec', 'T14-VVZ', 'T14a-KA', 'T14b-podiely', 'T14c-vstup_DG-ZG', 'T14d-Drš', 'T15-štipendiá-soc-Drš', 'T16-KKŠ', 'T17-Klinické-Zahr_lek', 'T18-Mot_štip', 'T19-počty študentov', 'T20-Publik', 'T20a-EPC', 'T20b-EUC', 'T21-Mobility', 'T22-praxe'], 2015: ['Obsah', 'T1-SR2015_RD2014', 'T1-SR2015_RD2014 (%)', 'T2-KO', 'T2-KAP', 'T2 -študijné odbory', 'T3-vstupy', 'T4-štruk_077', 'T5a-abs', 'T5b-studenti', 'T6a-abs', 'T6b-výkon', 'T6c-výkon-fak', 'T7-mzdy', 'T7a-val_', 'T8-TaS', 'T9-kultúra-šport', 'T9a_rozpis na TJ,ŠK', 'T10-prev_ŠD', 'T11-sumár_ŠD', 'T12-špecifiká', 'T13-sumár-špec', 'T14-VVZ', 'T14a-KA', 'T14b-podiely', 'T14c-vstup_DG-ZG', 'T14d-Drš', 'T15-štipendiá-soc-Drš', 'T16-KKŠ', 'T17-Klinické-Zahr_lek', 'T18-Mot_štip', 'T19-počty študentov', 'T20-Publik', 'T20a-EPC', 'T20b-EUC', 'T21-Mobility', 'T22-praxe', 'T23-špecifické_potreby', 'program_predmet'], 2016: ['Obsah', 'T1-RD2016_zvýš-RD2016', 'T1-SR2016_RD2015 s korekciou', 'T1-RD2016_zvýš-RD2016 (%)', 'T2-KO', 'T2-KAP', 'T2-odbory_predmety', 'T3-vstupy', 'T4-štruk_077', 'T5a-abs', 'T5b-studenti', 'T6a-abs', 'T6b-výkon', 'T6c-výkon-fak', 'T7-mzdy', 'T7a-val', 'Korekcia-2015', 'T8-TaS', 'T9-kultúra-šport', 'T9a_rozpis na TJ,ŠK', 'T10-prev_ŠD', 'T11-sumár_ŠD', 'T12-špecifiká', 'T13-sumár-špec', 'T14-VVZ', 'T14a-KA', 'T14b-podiely', 'T14c-vstup_DG-ZG', 'T14d-Drš', 'T15-štipendiá-soc-Drš', 'T16-KKŠ', 'T17-Klinické-Zahr_lek', 'T18-Mot_štip', 'T19-počty študentov', 'T20-Publik', 'T20a-EPC', 'T20b-EUC', 'T21-Mobility', 'T22-praxe', 'T23-špecifické_potreby'], 2017: ['Obsah', 'T1-RD2017_RD_2016', 'T1-RD2017_RD_2016 (%)', 'T2-KO', 'T2-KAP', 'T2-odbory_predmety', 'T3-vstupy', 'T4-štruk_077', 'T5a-abs', 'T5b-studenti', 'T6a-abs', 'T6b-výkon', 'T6c-výkon-fak', 'T7-mzdy', 'T8-TaS', 'T9-kultúra-šport', 'T9a_rozpis na TJ,ŠK', 'T10-prev_ŠD', 'T11-sumár_ŠD', 'T12-špecifiká', 'T13-sumár-špec', 'T14-VVZ', 'T14a-KA', 'T14b-podiely', 'T14c-vstup_DG-ZG', 'T14d-Drš', 'T14e-tímy', 'T15-štipendiá-soc', 'T16-KKŠ', 'T17-Klinické-Zahr_lek', 'T18-Mot_štip', 'T19-počty študentov', 'T20-Publik', 'T20a-EPC', 'T20b-EUC', 'T21-Mobility', 'T22-praxe', 'T23-špecifické_potreby', 'T24-rozvoj'], 2018: ['Obsah', 'T1-RD2018_RD_2017-DZ', 'T1-RD2018_RD_2017 (%)', 'T2-KO', 'T2-KAP', 'T2-odbory_predmety', 'T3-vstupy', 'T4-štruk_077', 'T5a-abs', 'T5b-studenti', 'T6a-abs', 'T6b-výkon', 'T6c-výkon-fak', 'T7-mzdy', 'T8-TaS', 'T9-kultúra-šport', 'T9a_rozpis na TJ,ŠK', 'T10-prev_ŠD', 'T11-sumár_ŠD', 'T12-špecifiká', 'T13-sumár-špec', 'T14-VVZ', 'T14a-KA', 'T14b-podiely', 'T14c-vstup_DG-ZG', 'T14d-Drš', 'T14e-tímy', 'T15-štipendiá-soc', 'T16-KKŠ', 'T17-Klinické-Zahr_lek', 'T18-Mot_štip', 'T19-počty študentov', 'T20-Publik', 'T20a-KT-CRUČ', 'T20b-CRUČ', 'T21-Mobility', 'T22-praxe', 'T23-špecifické_potreby', 'T24-rozvoj'], 2019: ['Obsah', 'T1-RD2019_RD_2018-DZ', 'T1-RD2019_RD_2018 (%)', 'T2-KO', 'T2-KAP', 'T2-odbory_predmety', 'T3-vstupy', 'T4-štruk_077', 'T5a-abs', 'T5b-studenti', 'T6a-abs', 'T6b-výkon', 'T6c-výkon-fak', 'T7-mzdy', 'T8-TaS', 'T9-kultúra-šport', 'T9a_rozpis na TJ,ŠK', 'T10-prev_ŠD', 'T11-sumár_ŠD', 'T12-špecifiká', 'T13-sumár-špec', 'T14-VVZ', 'T14a-KA', 'T14b-podiely', 'T14c-vstup_DG-ZG', 'T14d-Drš', 'T14e-tímy', 'T14f-EIZ', 'T15-štipendiá-soc', 'T16-KKŠ', 'T17-Klinické-Zahr_lek', 'T18-Mot_štip', 'T19-počty študentov', 'T20-Publik', 'T20a-KT-CRUČ', 'T20b-CRUČ', 'T21-Mobility', 'T22-praxe', 'T23-špecifické_potreby', 'T24-rozvoj'], 2020: ['Obsah', 'T1-RD2020_RD_2019-DZ', 'T1-RD2020_RD_2019 (%)', 'T2-KO', 'T2-KAP', 'T2-odbory_predmety', 'T3-vstupy', 'T4-štruk_077', 'T5a-abs', 'T5b-studenti', 'T6a-abs', 'T6b-výkon', 'T6c-výkon-fak', 'T7-mzdy', 'T7a-val-2020', 'T7b-val-1,9,2019-2020', 'T8-TaS', 'T9-kultúra-šport', 'T9a_rozpis na TJ,ŠK', 'T10-prev_ŠD', 'T11-sumár_ŠD', 'T12-špecifiká', 'T13-sumár-špec', 'T14-VVZ', 'T14a-KA', 'T14b-podiely', 'T14c-vstup_DG-ZG', 'T14d-Drš', 'T14e-tímy', 'T14f-EIZ', 'T15-štipendiá-soc', 'T16-KKŠ', 'T17-Klinické-Zahr_lek', 'T18-Mot_štip', 'T19-počty študentov', 'T20-Publik', 'T20a-KT-CRUČ', 'T20b-CRUČ', 'T21-Mobility', 'T21a- mobility', 'T21b-cudzinci', 'T22-praxe', 'T23-špecifické_potreby', 'T24-rozvoj'], 2021: ['Obsah', 'T1-RD2021_RD_2020-DZ', 'T1-RD2021_RD_2020 (%)', 'T2-KO', 'T2 - KAP 2021', 'T2-odbory_predmety', 'T3-vstupy', 'T4-štruk_077  ', 'T4-strukt_detailna', 'T5a-abs', 'T5b-studenti', 'T6a-abs', 'T6b-výkon', 'T6c-výkon-fak', 'T7-mzdy', 'T8-TaS', 'T9-kultúra-šport', 'T9a_rozpis na TJ,ŠK', 'T10-prev_ŠD', 'T11-sumár_ŠD', 'T12-špecifiká', 'T13-sumár-špec', 'T14-VVZ', 'T14a-KA', 'T14aa-VVZ-6r', 'T14b-podiely', 'T14c-vstup_DG-ZG', 'T14d-crš', 'T14d-Drš', 'T14e-tímy', 'T14f-EIZ', 'T15-štipendiá-soc', 'T16-KIVČ', 'T17-Klinické-Zahr_lek', 'T18-Mot_štip', 'T19-počty študentov', 'T20-Publik', 'T20a-CRUČ-sum', 'T20b-CRUČ-data', 'T21-Mobility', 'T21a- mobility', 'T21b-cudzinci', 'T22-praxe', 'T23-špecifické_potreby', 'T24-rozvoj'], 2022: ['Obsah', 'T1-RD2022_RD_2021', 'T1-RD2022_RD_2021 (%)', 'T2-KO', 'T2 - KAP 2022', 'Nezames', 'T2-odbory_predmety', 'T3-vstupy', 'T4-štruk_077  ', 'T4-strukt_detailna', 'T5a-abs', 'T5b-studenti', 'T6a-abs', 'T6b-výkon', 'T6c-výkon-fak', 'T7-mzdy', 'T8-TaS', 'T9-kultúra-šport', 'T9a_rozpis na TJ,ŠK', 'T10-prev_ŠD', 'T11-sumár_ŠD', 'T12-špecifiká', 'T13-sumár-špec', 'T14-VVZ', 'T14a-KA', 'T14aa-VVZ6rokov', 'T14ab-exc', 'T14b-podiely', 'T14c-vstup_DG-ZG', 'T14d-crš', 'T14d-Drš', 'T14e-tímy', 'T15-štipendiá', 'T16-KIVČ', 'T17-Klinické-Zahr_lek', 'T18-Mot_štip', 'T19-počty študentov', 'T20-Publik', 'T20a-CREUČ-sum', 'T20b-Vizual', 'T20c-Perform', 'T21-Mobility', 'T21a- mobility', 'T21b-cudzinci', 'T22-praxe', 'T23-špecifické_potreby']}\n"
     ]
    }
   ],
   "source": [
    "print(sheet_names)"
   ]
  },
  {
   "cell_type": "code",
   "execution_count": 36,
   "metadata": {},
   "outputs": [
    {
     "name": "stdout",
     "output_type": "stream",
     "text": [
      "[30, 35, 32, 34, 33, 35, 41, 39, 40, 39, 39, 40, 44, 45, 46]\n"
     ]
    }
   ],
   "source": [
    "value_sizes = [len(v) for v in sheet_names.values()]\n",
    "print(value_sizes)"
   ]
  },
  {
   "cell_type": "code",
   "execution_count": 40,
   "metadata": {},
   "outputs": [
    {
     "name": "stdout",
     "output_type": "stream",
     "text": [
      "2009\n",
      "2010\n",
      "2011\n",
      "2012\n",
      "2013\n",
      "2014\n",
      "2015\n",
      "2016\n",
      "2017\n",
      "2018\n",
      "2019\n",
      "2020\n",
      "2021\n",
      "2022\n"
     ]
    }
   ],
   "source": [
    "#print(sheet_names[2009][5])\n",
    "\n",
    "names08 = ['T2-KN', 'T2a-KAP', 'T3-vstupy', 'T4-štruk_077', 'T5a-absolventi', 'T5b-študenti', 'T6-výkon', 'T6-vyk_Fak', 'T7-mzdy', 'T8-TaS', 'T9-kultúra-šport', 'T9a_rozpis na TJ,ŠK', 'T10-prev_ŠD', 'T11-sumár_ŠD', 'T12-špecifiká', 'T13-sumár-špec', 'T14-VVZ-mzdy-TaS', 'T15-štipendiá-soc-Drš', 'T16-KKŠ', 'T17-Klinické ', 'T18-Mot.- štip', 'T19-počty studentov', 'T20-Publik', 'T21-info_syst', 'T22-praxe', 'číselnik-prog', 'premenné']\n",
    "\n",
    "for i in range(2008, 2023):\n",
    "    if sheet_names[i][3:] == names08:\n",
    "        continue\n",
    "    else:\n",
    "        print(i)\n",
    "\n"
   ]
  },
  {
   "cell_type": "code",
   "execution_count": 38,
   "metadata": {},
   "outputs": [
    {
     "name": "stdout",
     "output_type": "stream",
     "text": [
      "['T1-rozpis_2008_2007', 'T1-V14_rep', 'T1-2008_ZORO']\n",
      "['Obsah', 'T1-RD2009_eur-RD2008', 'T1-2009-2008, index']\n",
      "['Obsah', 'T1-RD2010_RD2009', 'T1-RD2010_RD2009 (%)']\n",
      "['Obsah', 'T1-RD2011_RD2010', 'T1-RD2011_RD2010 (%)']\n",
      "['Obsah', 'T1-RD2012_RD2011', 'T1-RD2012_RD2011 (%)']\n",
      "['Obsah', 'T1-RD2013_RD2012', 'T1-RD2013_RD2012 (%)']\n",
      "['Obsah', 'T1-SR2014_RD2013', 'T1-SR2014_RD2013 (%)']\n",
      "['Obsah', 'T1-SR2015_RD2014', 'T1-SR2015_RD2014 (%)']\n",
      "['Obsah', 'T1-RD2016_zvýš-RD2016', 'T1-SR2016_RD2015 s korekciou']\n",
      "['Obsah', 'T1-RD2017_RD_2016', 'T1-RD2017_RD_2016 (%)']\n",
      "['Obsah', 'T1-RD2018_RD_2017-DZ', 'T1-RD2018_RD_2017 (%)']\n",
      "['Obsah', 'T1-RD2019_RD_2018-DZ', 'T1-RD2019_RD_2018 (%)']\n",
      "['Obsah', 'T1-RD2020_RD_2019-DZ', 'T1-RD2020_RD_2019 (%)']\n",
      "['Obsah', 'T1-RD2021_RD_2020-DZ', 'T1-RD2021_RD_2020 (%)']\n",
      "['Obsah', 'T1-RD2022_RD_2021', 'T1-RD2022_RD_2021 (%)']\n"
     ]
    }
   ],
   "source": [
    "for i in range(2008, 2023):\n",
    "    print(sheet_names[i][:3])"
   ]
  },
  {
   "cell_type": "code",
   "execution_count": 41,
   "metadata": {},
   "outputs": [
    {
     "name": "stdout",
     "output_type": "stream",
     "text": [
      "['T2-KN', 'T2a-KAP', 'T3-vstupy', 'T4-štruk_077', 'T5a-absolventi', 'T5b-študenti', 'T6-výkon']\n",
      "['T2-KN', 'T2a-KAP', 'T3-vstupy', 'T4-štruk_077', 'T5a-abs', 'T5b-študent', 'T6a-abs,ext']\n",
      "['T2-KO', 'T2-KAP', 'T3-vstupy', 'T4-štruk_077', 'T5a-abs', 'T5b-študent', 'T6a-abs,ext']\n",
      "['T2-KO', 'T2-KAP', 'T3-vstupy', 'T4-štruk_077', 'T5a-abs', 'T5b-študent', 'T6a-abs,ext']\n",
      "['T2-KO', 'T2-KAP', 'T3-vstupy', 'T4-štruk_077', 'T5a-abs', 'T5b-študent', 'T6a-abs']\n",
      "['T2-KO', 'T2-KAP_2013', 'T3-vstupy', 'T4-štruk_077_RD', 'T5a-abs', 'T5b-študent', 'T6a-abs']\n",
      "['T1-SR2014_RD2013 (+5% neped)', 'T1-SR2014_RD2013 (%) (+5%neped)', 'T2-KO', 'T2-KAP_2014', 'T2 -študijné odbory', 'T3-vstupy', 'T4-štruk_077']\n",
      "['T2-KO', 'T2-KAP', 'T2 -študijné odbory', 'T3-vstupy', 'T4-štruk_077', 'T5a-abs', 'T5b-studenti']\n",
      "['T1-RD2016_zvýš-RD2016 (%)', 'T2-KO', 'T2-KAP', 'T2-odbory_predmety', 'T3-vstupy', 'T4-štruk_077', 'T5a-abs']\n",
      "['T2-KO', 'T2-KAP', 'T2-odbory_predmety', 'T3-vstupy', 'T4-štruk_077', 'T5a-abs', 'T5b-studenti']\n",
      "['T2-KO', 'T2-KAP', 'T2-odbory_predmety', 'T3-vstupy', 'T4-štruk_077', 'T5a-abs', 'T5b-studenti']\n",
      "['T2-KO', 'T2-KAP', 'T2-odbory_predmety', 'T3-vstupy', 'T4-štruk_077', 'T5a-abs', 'T5b-studenti']\n",
      "['T2-KO', 'T2-KAP', 'T2-odbory_predmety', 'T3-vstupy', 'T4-štruk_077', 'T5a-abs', 'T5b-studenti']\n",
      "['T2-KO', 'T2 - KAP 2021', 'T2-odbory_predmety', 'T3-vstupy', 'T4-štruk_077  ', 'T4-strukt_detailna', 'T5a-abs']\n",
      "['T2-KO', 'T2 - KAP 2022', 'Nezames', 'T2-odbory_predmety', 'T3-vstupy', 'T4-štruk_077  ', 'T4-strukt_detailna']\n"
     ]
    }
   ],
   "source": [
    "for i in range(2008, 2023):\n",
    "    print(sheet_names[i][3:10])"
   ]
  }
 ],
 "metadata": {
  "kernelspec": {
   "display_name": "Python 3",
   "language": "python",
   "name": "python3"
  },
  "language_info": {
   "codemirror_mode": {
    "name": "ipython",
    "version": 3
   },
   "file_extension": ".py",
   "mimetype": "text/x-python",
   "name": "python",
   "nbconvert_exporter": "python",
   "pygments_lexer": "ipython3",
   "version": "3.10.0 (tags/v3.10.0:b494f59, Oct  4 2021, 19:00:18) [MSC v.1929 64 bit (AMD64)]"
  },
  "orig_nbformat": 4,
  "vscode": {
   "interpreter": {
    "hash": "f94f4921aaabc690c49c82eca99df50517512726a1a8470eb99d081b6e6b5dd0"
   }
  }
 },
 "nbformat": 4,
 "nbformat_minor": 2
}
